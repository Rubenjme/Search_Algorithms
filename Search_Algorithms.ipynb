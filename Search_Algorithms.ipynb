{
 "cells": [
  {
   "cell_type": "markdown",
   "metadata": {},
   "source": [
    "# **<span style=\"color: #0098cd;\">Algoritmos de búsqueda para planificación de rutas en paquetería</span>**"
   ]
  },
  {
   "cell_type": "markdown",
   "metadata": {},
   "source": [
    "## **Objetivos**"
   ]
  },
  {
   "cell_type": "markdown",
   "metadata": {},
   "source": [
    "## **Descripción**"
   ]
  },
  {
   "cell_type": "markdown",
   "metadata": {},
   "source": [
    "## **Generador del mapa**"
   ]
  },
  {
   "cell_type": "code",
   "execution_count": 2,
   "metadata": {},
   "outputs": [],
   "source": [
    "import matplotlib.pyplot as plt\n",
    "import numpy as np\n",
    "from matplotlib.colors import ListedColormap \n",
    "\n",
    "def draw_map(game_map):\n",
    "    \"\"\"\n",
    "    Dibuja un mapa de un juego utilizando una codificación de colores específica.\n",
    "\n",
    "    Parameters:\n",
    "    game_map (list of list of str): Matriz donde cada elemento es un carácter que representa un tipo de terreno\n",
    "        en el juego. Los caracteres deben ser uno de los siguientes:\n",
    "        '#' para muro, ' ' para espacio libre, 'T' para el punto de inicio, 'P' para el objetivo, '·' para camino.\n",
    "\n",
    "    Returns:\n",
    "    None: Esta función no devuelve ningún valor, pero muestra un mapa visual del juego utilizando matplotlib.\n",
    "\n",
    "    Description:\n",
    "    La función toma una matriz de caracteres y la convierte en un mapa numérico basado en un mapeo predefinido.\n",
    "    Luego, utiliza matplotlib para dibujar este mapa con una paleta de colores personalizada y muestra una barra\n",
    "    de color que indica la leyenda del mapa. El mapa es útil para visualizar diferentes secciones del juego, como\n",
    "    muros, caminos y objetivos.\n",
    "    \"\"\"\n",
    "    # Mapeo de caracteres a valores numericos\n",
    "    color_map = {'#': 0, ' ': 1, 'T': 2, 'P': 3, '·': 4}\n",
    "    \n",
    "    # Creo un colormap personalizado a partir de una lista de colores\n",
    "    colors = ['black', 'white', 'red', 'blue', 'green']\n",
    "    cmap = ListedColormap(colors)\n",
    "    \n",
    "    # Convertir el mapa de caracteres a un mapa numérico usando el mapeo de colores\n",
    "    numeric_map = np.array([[color_map[char] for char in row] for row in game_map])\n",
    "    \n",
    "    # Creo y muestro el gráfico\n",
    "    plt.imshow(numeric_map, cmap=cmap)\n",
    "    cbar = plt.colorbar(ticks=range(len(color_map)))\n",
    "    cbar.ax.set_yticklabels(['Muro', 'Libre', 'Inicio', 'Objetivo', 'Camino'])\n",
    "    plt.show()"
   ]
  },
  {
   "cell_type": "code",
   "execution_count": 3,
   "metadata": {},
   "outputs": [],
   "source": [
    "#!pip install simpleai  # Instala la librería simpleai si no la tienes instalada\n",
    "from __future__ import print_function\n",
    "import math\n",
    "from simpleai.search.viewers import BaseViewer,ConsoleViewer,WebViewer\n",
    "from simpleai.search import SearchProblem, astar, breadth_first, depth_first, uniform_cost\n",
    "# Búsqueda en amplitud (breadth-first search) y búsqueda en profundidad (depth-first search).\n",
    "# astar es otro algoritmo de búsqueda, más conocido como A* (A estrella)\n",
    "\n",
    "class GameWalkPuzzle(SearchProblem):\n",
    "\n",
    "    def __init__(self, board, costs, heuristic_number):\n",
    "        self.board = board\n",
    "        self.goal = (0, 0)\n",
    "        self.costs = costs\n",
    "        self.heuristic_number = heuristic_number\n",
    "        for y in range(len(self.board)):\n",
    "            for x in range(len(self.board[y])):\n",
    "                if self.board[y][x].lower() == \"t\":\n",
    "                    self.initial = (x, y)\n",
    "                elif self.board[y][x].lower() == \"p\":\n",
    "                    self.goal = (x, y)\n",
    "\n",
    "        super(GameWalkPuzzle, self).__init__(initial_state=self.initial)\n",
    "\n",
    "    def actions(self, state):\n",
    "        actions = []\n",
    "        for action in list(self.costs.keys()):\n",
    "            newx, newy = self.result(state, action)\n",
    "            if self.board[newy][newx] != \"#\":\n",
    "                actions.append(action)\n",
    "        return actions\n",
    "\n",
    "    def result(self, state, action):\n",
    "        x, y = state\n",
    "\n",
    "        if action.count(\"up\"):\n",
    "            y -= 1\n",
    "        if action.count(\"down\"):\n",
    "            y += 1\n",
    "        if action.count(\"left\"):\n",
    "            x -= 1\n",
    "        if action.count(\"right\"):\n",
    "            x += 1\n",
    "\n",
    "        new_state = (x, y)\n",
    "        return new_state\n",
    "\n",
    "    def is_goal(self, state):\n",
    "        return state == self.goal\n",
    "\n",
    "    def cost(self, state, action, state2):\n",
    "        return self.costs[action]\n",
    "\n",
    "    # Esta función heurística es la distancia entre el estado actual\n",
    "    # el objetivo (único) identificado como self.goal\n",
    "    def heuristic1(self, state):\n",
    "        x, y = state\n",
    "        gx, gy = self.goal\n",
    "        return abs(x - gx) + abs(y - gy) # distancia de Manhattan\n",
    "\n",
    "    def heuristic2(self, state):\n",
    "        x, y = state\n",
    "        gx, gy = self.goal\n",
    "        return max(abs(x - gx),abs(y - gy)) # distancia de Chebychev\n",
    "\n",
    "    def heuristic3(self, state):\n",
    "        x, y = state\n",
    "        gx, gy = self.goal\n",
    "        return 2*(abs(x - gx) + abs(y - gy)) # distancia de Manhattan modificada\n",
    "    \n",
    "    def heuristic4(self, state):\n",
    "        x, y = state\n",
    "        gx, gy = self.goal\n",
    "        return 4*(abs(x - gx) + abs(y - gy)) # distancia de Manhattan modificada\n",
    "\n",
    "    def heuristic(self,state):\n",
    "      if self.heuristic_number == 1:\n",
    "          return self.heuristic1(state)\n",
    "      elif self.heuristic_number == 2:\n",
    "          return self.heuristic2(state)\n",
    "      elif self.heuristic_number == 3:\n",
    "          return self.heuristic3(state)\n",
    "      elif self.heuristic_number == 4:\n",
    "          return self.heuristic4(state)\n",
    "      else:\n",
    "        raise Exception(\"El número de la función heurística debe estar entre 1 y 4\")\n",
    "\n",
    "def searchInfo (problem,result,use_viewer):\n",
    "    def getTotalCost (problem,result):\n",
    "        originState = problem.initial_state\n",
    "        totalCost = 0\n",
    "        for action,endingState in result.path():\n",
    "            if action is not None:\n",
    "                totalCost += problem.cost(originState,action,endingState)\n",
    "                originState = endingState\n",
    "        return totalCost\n",
    "\n",
    "\n",
    "    res = \"Total length of solution: {0}\\n\".format(len(result.path()))\n",
    "    res += \"Total cost of solution: {0}\\n\".format(getTotalCost(problem,result))\n",
    "\n",
    "    if use_viewer:\n",
    "        stats = [{'name': stat.replace('_', ' '), 'value': value}\n",
    "                         for stat, value in list(use_viewer.stats.items())]\n",
    "\n",
    "        for s in stats:\n",
    "            res+= '{0}: {1}\\n'.format(s['name'],s['value'])\n",
    "    return res\n",
    "\n",
    "\n",
    "\n",
    "# Configuramos aqui la funcion resultado_experimento para graficar con nuestra funcion\n",
    "def resultado_experimento(problem, MAP, result, used_viewer):\n",
    "    path = [x[1] for x in result.path()]\n",
    "    visual_map = [list(row) for row in MAP]  # Creo una copia del mapa para modificar\n",
    "\n",
    "    for y in range(len(MAP)):\n",
    "        for x in range(len(MAP[y])):\n",
    "            if (x, y) == problem.initial:\n",
    "                visual_map[y][x] = 'T'  # Marca la posición inicial\n",
    "            elif (x, y) == problem.goal:\n",
    "                visual_map[y][x] = 'P'  # Marca la posición objetivo\n",
    "            elif (x, y) in path:\n",
    "                visual_map[y][x] = '·'  # Marca el camino recorrido\n",
    "\n",
    "    draw_map(visual_map)  # Dibuja el mapa con Matplotlib\n",
    "\n",
    "    info = searchInfo(problem, result, used_viewer)\n",
    "    print(info)\n",
    "\n",
    "def main(MAP_ASCII,COSTS,algorithms,heuristic_number=1):\n",
    "    MAP = [list(x) for x in MAP_ASCII.split(\"\\n\") if x]\n",
    "    \n",
    "    for algorithm in algorithms:\n",
    "      problem = GameWalkPuzzle(MAP,COSTS,heuristic_number)\n",
    "      used_viewer=BaseViewer()\n",
    "      # Mostramos los experimentos\n",
    "      print (\"Experimento con algoritmo {}:\".format(algorithm))\n",
    "\n",
    "      result = algorithm(problem, graph_search=True, viewer=used_viewer)\n",
    "      resultado_experimento(problem,MAP,result,used_viewer)"
   ]
  },
  {
   "cell_type": "markdown",
   "metadata": {},
   "source": [
    "## **Caso 1 - Búsqueda en Amplitud y Búsqueda en Profundidad**"
   ]
  },
  {
   "cell_type": "code",
   "execution_count": null,
   "metadata": {},
   "outputs": [
    {
     "name": "stdout",
     "output_type": "stream",
     "text": [
      "Experimento con algoritmo <function breadth_first at 0x000001F9F460F060>:\n"
     ]
    },
    {
     "data": {
      "image/png": "[encoded data removed]",
      "text/plain": [
       "<Figure size 640x480 with 2 Axes>"
      ]
     },
     "metadata": {},
     "output_type": "display_data"
    },
    {
     "name": "stdout",
     "output_type": "stream",
     "text": [
      "Total length of solution: 9\n",
      "Total cost of solution: 8.0\n",
      "max fringe size: 5\n",
      "visited nodes: 23\n",
      "iterations: 23\n",
      "\n",
      "Experimento con algoritmo <function depth_first at 0x000001F9F4670540>:\n"
     ]
    },
    {
     "data": {
      "image/png": "[encoded data removed]",
      "text/plain": [
       "<Figure size 640x480 with 2 Axes>"
      ]
     },
     "metadata": {},
     "output_type": "display_data"
    },
    {
     "name": "stdout",
     "output_type": "stream",
     "text": [
      "Total length of solution: 15\n",
      "Total cost of solution: 14.0\n",
      "max fringe size: 5\n",
      "visited nodes: 15\n",
      "iterations: 15\n",
      "\n"
     ]
    }
   ],
   "source": [
    "# Se ejecutan los algoritmos de búsqueda en amplitud (Breadth-First Search) y búsqueda en profundidad (Depth-First Search).\n",
    "\n",
    "# Mapa del juego\n",
    "MAP_ASCII = \"\"\"\n",
    "########\n",
    "#    P #\n",
    "# #### #\n",
    "#  T # #\n",
    "# ##   #\n",
    "#      #\n",
    "########\n",
    "\"\"\"\n",
    "\n",
    "# Costes de moverse en cada dirección\n",
    "COSTS = { \n",
    "    \"up\": 1.0,\n",
    "    \"down\": 1.0,\n",
    "    \"right\": 1.0,\n",
    "    \"left\": 1.0,\n",
    "}\n",
    "\n",
    "algorithms=(breadth_first,depth_first) # Algoritmos de búsqueda en amplitud y búsqueda en profundidad\n",
    "main (MAP_ASCII,COSTS,algorithms)      # Se ejecuta la función main"
   ]
  }
 ],
 "metadata": {
  "kernelspec": {
   "display_name": "Python 3",
   "language": "python",
   "name": "python3"
  },
  "language_info": {
   "codemirror_mode": {
    "name": "ipython",
    "version": 3
   },
   "file_extension": ".py",
   "mimetype": "text/x-python",
   "name": "python",
   "nbconvert_exporter": "python",
   "pygments_lexer": "ipython3",
   "version": "3.11.9"
  }
 },
 "nbformat": 4,
 "nbformat_minor": 2
}
