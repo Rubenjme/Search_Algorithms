{
 "cells": [
  {
   "cell_type": "markdown",
   "metadata": {},
   "source": [
    "# **<span style=\"color: #0098cd;\">Algoritmos de búsqueda para planificación de rutas en paquetería</span>**"
   ]
  },
  {
   "cell_type": "markdown",
   "metadata": {},
   "source": [
    "## **Objetivos**"
   ]
  },
  {
   "cell_type": "markdown",
   "metadata": {},
   "source": [
    "Se busca implementar y analizar distintos algoritmos de búsqueda aplicados a un problema de navegación en un entorno estructurado. Se busca:\n",
    "\n",
    "- Comparar el rendimiento de algoritmos de búsqueda no informada (Búsqueda en Amplitud - BFS, Búsqueda en Profundidad - DFS).\n",
    "- Evaluar el comportamiento de algoritmos de búsqueda informada como Costo Uniforme (UCS) y A* con diferentes heurísticas.\n",
    "- Medir y analizar métricas como longitud del camino, costo total, nodos visitados e iteraciones.\n",
    "- Visualizar los resultados mediante representaciones gráficas del entorno y los caminos generados.\n",
    "- Determinar la eficiencia de cada enfoque en distintos escenarios, considerando restricciones del entorno y heurísticas utilizadas."
   ]
  },
  {
   "cell_type": "markdown",
   "metadata": {},
   "source": [
    "## **Descripción**"
   ]
  },
  {
   "cell_type": "markdown",
   "metadata": {},
   "source": [
    "El problema que se simula es una simplificación del que debe abordar una empresa de paquetería al organizar una serie de recogidas en distintos puntos de la ciudad. Para ello sus furgonetas automáticas tienen que ser capaces de encontrar caminos entre su ubicación y los puntos de recogida, y conocer el mapa de la ciudad.  \n",
    "\n",
    "El proyecto consiste en utilizar varias estrategias de búsqueda con el fin de generar estos caminos de forma automática. \n",
    "\n",
    "Se simplifica el problema considerando el espacio dividido en una matriz rectangular, de modo que una furgoneta estará situada en una ubicación identificada por sus coordenadas. La furgoneta puede moverse en sentido horizontal y vertical. Las localizaciones se indican mediante filas y columnas. \n",
    "\n",
    "<p align=\"center\">\n",
    "    <img src=\"images/desc.png\" alt=\"Clustering K-Means\" width=\"400\">\n",
    "</p>\n",
    "Posible situación de inicio del problema. El camión representa la posición inicial del agente y la bandera un lugar al que debe ir a recoger un paquete.\n",
    "\n",
    "El mapa se representa mediante casillas ordenadas en una matriz e incluye paredes que no se pueden traspasar. Se define mediante una sintaxis muy sencilla donde cada símbolo representa un agente, un objetivo, una pared o bien espacio vacío.  \n",
    "\n",
    "1. El estado inicial consiste en la posición inicial del agente y de las casillas donde hay paquete para recoger. El objetivo es recoger todos los paquetes. \n",
    "\n",
    "2. Las acciones permitidas son los movimientos de una casilla en dirección horizontal o vertical (no diagonal). \n",
    "\n",
    "3. El coste del movimiento de la furgoneta se configura mediante una variable y varía en los diversos casos de la actividad (ver código). \n",
    "\n",
    "4. El código proporcionado incorpora como heurística (para los algoritmos informados) una basada en la distancia de Manhattan. \n",
    "\n",
    "\n",
    "Se utilizan diferentes algoritmos:\n",
    "- Búsqueda en amplitud (BFS): Explora todos los nodos a un mismo nivel antes de profundizar.\n",
    "- Búsqueda en profundidad (DFS): Explora caminos completos antes de retroceder.\n",
    "- Coste uniforme (UCS - Dijkstra): Encuentra el camino de menor coste acumulativo.\n",
    "- A*: Utiliza heurísticas para guiar la búsqueda y reducir el número de nodos explorados.\n",
    "\n",
    "Las heurísticas implementadas incluyen:\n",
    "- Distancia de Manhattan (suma de diferencias en coordenadas).\n",
    "- Distancia de Chebyshev (máxima diferencia en coordenadas).\n",
    "- Variaciones escaladas de Manhattan para influir en la exploración."
   ]
  },
  {
   "cell_type": "markdown",
   "metadata": {},
   "source": [
    "## **Generador del mapa**"
   ]
  },
  {
   "cell_type": "code",
   "execution_count": 7,
   "metadata": {},
   "outputs": [],
   "source": [
    "import matplotlib.pyplot as plt\n",
    "import numpy as np\n",
    "from matplotlib.colors import ListedColormap \n",
    "\n",
    "def draw_map(game_map):\n",
    "    \"\"\"\n",
    "    Dibuja un mapa de un juego utilizando una codificación de colores específica.\n",
    "\n",
    "    Parameters:\n",
    "    game_map (list of list of str): Matriz donde cada elemento es un carácter que representa un tipo de terreno\n",
    "        en el juego. Los caracteres deben ser uno de los siguientes:\n",
    "        '#' para muro, ' ' para espacio libre, 'T' para el punto de inicio, 'P' para el objetivo, '·' para camino.\n",
    "\n",
    "    Returns:\n",
    "    None: Esta función no devuelve ningún valor, pero muestra un mapa visual del juego utilizando matplotlib.\n",
    "\n",
    "    Description:\n",
    "    La función toma una matriz de caracteres y la convierte en un mapa numérico basado en un mapeo predefinido.\n",
    "    Luego, utiliza matplotlib para dibujar este mapa con una paleta de colores personalizada y muestra una barra\n",
    "    de color que indica la leyenda del mapa. El mapa es útil para visualizar diferentes secciones del juego, como\n",
    "    muros, caminos y objetivos.\n",
    "    \"\"\"\n",
    "    # Mapeo de caracteres a valores numericos\n",
    "    color_map = {'#': 0, ' ': 1, 'T': 2, 'P': 3, '·': 4}\n",
    "    \n",
    "    # Creo un colormap personalizado a partir de una lista de colores\n",
    "    colors = ['black', 'white', 'red', 'blue', 'green']\n",
    "    cmap = ListedColormap(colors)\n",
    "    \n",
    "    # Convertir el mapa de caracteres a un mapa numérico usando el mapeo de colores\n",
    "    numeric_map = np.array([[color_map[char] for char in row] for row in game_map])\n",
    "    \n",
    "    # Creo y muestro el gráfico\n",
    "    plt.imshow(numeric_map, cmap=cmap)\n",
    "    cbar = plt.colorbar(ticks=range(len(color_map)))\n",
    "    cbar.ax.set_yticklabels(['Muro', 'Libre', 'Inicio', 'Objetivo', 'Camino'])\n",
    "    plt.show()"
   ]
  },
  {
   "cell_type": "code",
   "execution_count": 8,
   "metadata": {},
   "outputs": [],
   "source": [
    "#!pip install simpleai  # Instala la librería simpleai si no la tienes instalada\n",
    "from __future__ import print_function\n",
    "from simpleai.search.viewers import BaseViewer\n",
    "from simpleai.search import SearchProblem, astar, breadth_first, depth_first, uniform_cost\n",
    "# Búsqueda en amplitud (breadth-first search) y búsqueda en profundidad (depth-first search).\n",
    "# astar es otro algoritmo de búsqueda, más conocido como A* (A estrella)\n",
    "\n",
    "class GameWalkPuzzle(SearchProblem):\n",
    "\n",
    "    def __init__(self, board, costs, heuristic_number):\n",
    "        self.board = board\n",
    "        self.goal = (0, 0)\n",
    "        self.costs = costs\n",
    "        self.heuristic_number = heuristic_number\n",
    "        for y in range(len(self.board)):\n",
    "            for x in range(len(self.board[y])):\n",
    "                if self.board[y][x].lower() == \"t\":\n",
    "                    self.initial = (x, y)\n",
    "                elif self.board[y][x].lower() == \"p\":\n",
    "                    self.goal = (x, y)\n",
    "\n",
    "        super(GameWalkPuzzle, self).__init__(initial_state=self.initial)\n",
    "\n",
    "    def actions(self, state):\n",
    "        actions = []\n",
    "        for action in list(self.costs.keys()):\n",
    "            newx, newy = self.result(state, action)\n",
    "            if self.board[newy][newx] != \"#\":\n",
    "                actions.append(action)\n",
    "        return actions\n",
    "\n",
    "    def result(self, state, action):\n",
    "        x, y = state\n",
    "\n",
    "        if action.count(\"up\"):\n",
    "            y -= 1\n",
    "        if action.count(\"down\"):\n",
    "            y += 1\n",
    "        if action.count(\"left\"):\n",
    "            x -= 1\n",
    "        if action.count(\"right\"):\n",
    "            x += 1\n",
    "\n",
    "        new_state = (x, y)\n",
    "        return new_state\n",
    "\n",
    "    def is_goal(self, state):\n",
    "        return state == self.goal\n",
    "\n",
    "    def cost(self, state, action, state2):\n",
    "        return self.costs[action]\n",
    "\n",
    "    # Esta función heurística es la distancia entre el estado actual\n",
    "    # el objetivo (único) identificado como self.goal\n",
    "    def heuristic1(self, state):\n",
    "        x, y = state\n",
    "        gx, gy = self.goal\n",
    "        return abs(x - gx) + abs(y - gy) # distancia de Manhattan\n",
    "\n",
    "    def heuristic2(self, state):\n",
    "        x, y = state\n",
    "        gx, gy = self.goal\n",
    "        return max(abs(x - gx),abs(y - gy)) # distancia de Chebychev\n",
    "\n",
    "    def heuristic3(self, state):\n",
    "        x, y = state\n",
    "        gx, gy = self.goal\n",
    "        return 2*(abs(x - gx) + abs(y - gy)) # distancia de Manhattan modificada\n",
    "    \n",
    "    def heuristic4(self, state):\n",
    "        x, y = state\n",
    "        gx, gy = self.goal\n",
    "        return 4*(abs(x - gx) + abs(y - gy)) # distancia de Manhattan modificada\n",
    "\n",
    "    def heuristic(self,state):\n",
    "      if self.heuristic_number == 1:\n",
    "          return self.heuristic1(state)\n",
    "      elif self.heuristic_number == 2:\n",
    "          return self.heuristic2(state)\n",
    "      elif self.heuristic_number == 3:\n",
    "          return self.heuristic3(state)\n",
    "      elif self.heuristic_number == 4:\n",
    "          return self.heuristic4(state)\n",
    "      else:\n",
    "        raise Exception(\"El número de la función heurística debe estar entre 1 y 4\")\n",
    "\n",
    "def searchInfo (problem,result,use_viewer):\n",
    "    def getTotalCost (problem,result):\n",
    "        originState = problem.initial_state\n",
    "        totalCost = 0\n",
    "        for action,endingState in result.path():\n",
    "            if action is not None:\n",
    "                totalCost += problem.cost(originState,action,endingState)\n",
    "                originState = endingState\n",
    "        return totalCost\n",
    "\n",
    "\n",
    "    res = \"Total length of solution: {0}\\n\".format(len(result.path()))\n",
    "    res += \"Total cost of solution: {0}\\n\".format(getTotalCost(problem,result))\n",
    "\n",
    "    if use_viewer:\n",
    "        stats = [{'name': stat.replace('_', ' '), 'value': value}\n",
    "                         for stat, value in list(use_viewer.stats.items())]\n",
    "\n",
    "        for s in stats:\n",
    "            res+= '{0}: {1}\\n'.format(s['name'],s['value'])\n",
    "    return res\n",
    "\n",
    "\n",
    "\n",
    "# Configuramos aqui la funcion resultado_experimento para graficar con nuestra funcion\n",
    "def resultado_experimento(problem, MAP, result, used_viewer):\n",
    "    path = [x[1] for x in result.path()]\n",
    "    visual_map = [list(row) for row in MAP]  # Creo una copia del mapa para modificar\n",
    "\n",
    "    for y in range(len(MAP)):\n",
    "        for x in range(len(MAP[y])):\n",
    "            if (x, y) == problem.initial:\n",
    "                visual_map[y][x] = 'T'  # Marca la posición inicial\n",
    "            elif (x, y) == problem.goal:\n",
    "                visual_map[y][x] = 'P'  # Marca la posición objetivo\n",
    "            elif (x, y) in path:\n",
    "                visual_map[y][x] = '·'  # Marca el camino recorrido\n",
    "\n",
    "    draw_map(visual_map)  # Dibuja el mapa con Matplotlib\n",
    "\n",
    "    info = searchInfo(problem, result, used_viewer)\n",
    "    print(info)\n",
    "\n",
    "def main(MAP_ASCII,COSTS,algorithms,heuristic_number=1):\n",
    "    MAP = [list(x) for x in MAP_ASCII.split(\"\\n\") if x]\n",
    "    \n",
    "    for algorithm in algorithms:\n",
    "      problem = GameWalkPuzzle(MAP,COSTS,heuristic_number)\n",
    "      used_viewer=BaseViewer()\n",
    "      # Mostramos los experimentos\n",
    "      print (\"Experimento con algoritmo {}:\".format(algorithm))\n",
    "\n",
    "      result = algorithm(problem, graph_search=True, viewer=used_viewer)\n",
    "      resultado_experimento(problem,MAP,result,used_viewer)"
   ]
  },
  {
   "cell_type": "markdown",
   "metadata": {},
   "source": [
    "## **Caso 1 - Búsqueda en Amplitud y Búsqueda en Profundidad**"
   ]
  },
  {
   "cell_type": "code",
   "execution_count": 9,
   "metadata": {},
   "outputs": [
    {
     "name": "stdout",
     "output_type": "stream",
     "text": [
      "Experimento con algoritmo <function breadth_first at 0x0000017A86DBF1A0>:\n"
     ]
    },
    {
     "data": {
      "image/png": "[encoded data removed]",
      "text/plain": [
       "<Figure size 640x480 with 2 Axes>"
      ]
     },
     "metadata": {},
     "output_type": "display_data"
    },
    {
     "name": "stdout",
     "output_type": "stream",
     "text": [
      "Total length of solution: 9\n",
      "Total cost of solution: 8.0\n",
      "max fringe size: 5\n",
      "visited nodes: 23\n",
      "iterations: 23\n",
      "\n",
      "Experimento con algoritmo <function depth_first at 0x0000017A86E00680>:\n"
     ]
    },
    {
     "data": {
      "image/png": "[encoded data removed]",
      "text/plain": [
       "<Figure size 640x480 with 2 Axes>"
      ]
     },
     "metadata": {},
     "output_type": "display_data"
    },
    {
     "name": "stdout",
     "output_type": "stream",
     "text": [
      "Total length of solution: 15\n",
      "Total cost of solution: 14.0\n",
      "max fringe size: 5\n",
      "visited nodes: 15\n",
      "iterations: 15\n",
      "\n"
     ]
    }
   ],
   "source": [
    "# Se ejecutan los algoritmos de búsqueda en amplitud (Breadth-First Search) y búsqueda en profundidad (Depth-First Search).\n",
    "\n",
    "# Mapa del juego\n",
    "MAP_ASCII = \"\"\"\n",
    "########\n",
    "#    P #\n",
    "# #### #\n",
    "#  T # #\n",
    "# ##   #\n",
    "#      #\n",
    "########\n",
    "\"\"\"\n",
    "\n",
    "# Costes de moverse en cada dirección\n",
    "COSTS = { \n",
    "    \"up\": 1.0,\n",
    "    \"down\": 1.0,\n",
    "    \"right\": 1.0,\n",
    "    \"left\": 1.0,\n",
    "}\n",
    "\n",
    "algorithms=(breadth_first,depth_first) # Algoritmos de búsqueda en amplitud y búsqueda en profundidad\n",
    "main (MAP_ASCII,COSTS,algorithms)      # Se ejecuta la función main"
   ]
  },
  {
   "cell_type": "markdown",
   "metadata": {},
   "source": [
    "Recopilando los resultados obtenidos tenemos que:\n",
    "\n",
    "| Algoritmo       | Longitud de la solución | Costo total | Tamaño máximo de la frontera | Nodos visitados | Iteraciones |\n",
    "|----------------|------------------------|-------------|------------------------------|-----------------|-------------|\n",
    "| BFS (Amplitud) | 9                      | 8         | 5                            | 23              | 23          |\n",
    "| DFS (Profundidad) | 15                  | 14        | 5                            | 15              | 15          |\n"
   ]
  },
  {
   "cell_type": "markdown",
   "metadata": {},
   "source": [
    "### **¿Obtiene el algoritmo de amplitud un resultado óptimo?**"
   ]
  },
  {
   "cell_type": "markdown",
   "metadata": {},
   "source": [
    "Sí, el algoritmo en amplitud siempre encuentra un resultado óptimo, ya que expande todos los nodos de cada nivel antes de pasar al siguiente. El problema es que la solución es compleja, vemos que ha necesitado 23 iteraciones para llegar a la solución."
   ]
  },
  {
   "cell_type": "markdown",
   "metadata": {},
   "source": [
    "### **¿Obtiene el algoritmo de profundidad un resultado óptimo?**"
   ]
  },
  {
   "cell_type": "markdown",
   "metadata": {},
   "source": [
    "No, el algoritmo de búsqueda por profundidad va explorando los nodos del grafo sin detenerse hasta que, o bien no pueda continuar, o bien solo pueda ir a un nodo ya visitado. Una vez encuentra una solución, óptima o no, el algoritmo para de buscar.\n",
    "\n",
    "Por eso este es menos costoso computacionalmente, y por eso también la solución solo será óptima por mero azar"
   ]
  },
  {
   "cell_type": "markdown",
   "metadata": {},
   "source": [
    "\n",
    "### **¿Qué algoritmo es más eficiente en este caso particular?**"
   ]
  },
  {
   "cell_type": "markdown",
   "metadata": {},
   "source": [
    "Entendiendo el concepto de eficiencia como la toma de los mínimos recursos posibles para resolver un problema llegando a una respuesta correcta, entonces el algoritmo en profundidad sería más eficiente porque ha expandido menos nodos para encontrar una solución."
   ]
  },
  {
   "cell_type": "markdown",
   "metadata": {},
   "source": [
    "## **Caso 2 - Búsqueda en Amplitud, Dijkstra y A*** **con variaciones de costes**"
   ]
  },
  {
   "cell_type": "markdown",
   "metadata": {},
   "source": [
    "Para este caso se probarán y compararán los algoritmos de búsqueda amplitud, Dijkstra y A*. "
   ]
  },
  {
   "cell_type": "code",
   "execution_count": 10,
   "metadata": {},
   "outputs": [
    {
     "name": "stdout",
     "output_type": "stream",
     "text": [
      "Experimento con algoritmo <function breadth_first at 0x0000017A86DBF1A0>:\n"
     ]
    },
    {
     "data": {
      "image/png": "[encoded data removed]",
      "text/plain": [
       "<Figure size 640x480 with 2 Axes>"
      ]
     },
     "metadata": {},
     "output_type": "display_data"
    },
    {
     "name": "stdout",
     "output_type": "stream",
     "text": [
      "Total length of solution: 9\n",
      "Total cost of solution: 28.0\n",
      "max fringe size: 5\n",
      "visited nodes: 23\n",
      "iterations: 23\n",
      "\n",
      "Experimento con algoritmo <function uniform_cost at 0x0000017A86E01440>:\n"
     ]
    },
    {
     "data": {
      "image/png": "[encoded data removed]",
      "text/plain": [
       "<Figure size 640x480 with 2 Axes>"
      ]
     },
     "metadata": {},
     "output_type": "display_data"
    },
    {
     "name": "stdout",
     "output_type": "stream",
     "text": [
      "Total length of solution: 9\n",
      "Total cost of solution: 22.0\n",
      "max fringe size: 6\n",
      "visited nodes: 22\n",
      "iterations: 22\n",
      "\n",
      "Experimento con algoritmo <function astar at 0x0000017A86E01580>:\n"
     ]
    },
    {
     "data": {
      "image/png": "[encoded data removed]",
      "text/plain": [
       "<Figure size 640x480 with 2 Axes>"
      ]
     },
     "metadata": {},
     "output_type": "display_data"
    },
    {
     "name": "stdout",
     "output_type": "stream",
     "text": [
      "Total length of solution: 9\n",
      "Total cost of solution: 22.0\n",
      "max fringe size: 6\n",
      "visited nodes: 20\n",
      "iterations: 20\n",
      "\n"
     ]
    }
   ],
   "source": [
    "# Se utiliza el mismo mapa pero se varían los costes y los algoritmos elegidos\n",
    "\n",
    "MAP_ASCII = \"\"\"\n",
    "########\n",
    "#    P #\n",
    "# #### #\n",
    "#  T # #\n",
    "# ##   #\n",
    "#      #\n",
    "########\n",
    "\"\"\"\n",
    "\n",
    "# Costes de moverse en cada dirección\n",
    "COSTS = {\n",
    "    \"up\": 5.0,\n",
    "    \"down\": 5.0,\n",
    "    \"right\": 2.0,\n",
    "    \"left\": 2.0,\n",
    "}\n",
    "\n",
    "algorithms=(breadth_first,uniform_cost,astar) # Algoritmos de búsqueda en amplitud, coste uniforme y A*\n",
    "main (MAP_ASCII,COSTS,algorithms)"
   ]
  },
  {
   "cell_type": "markdown",
   "metadata": {},
   "source": [
    "Recopilando los resultados obtenidos tenemos que:\n",
    "\n",
    "| Algoritmo        | Longitud de la solución | Costo total | Tamaño máximo de la frontera | Nodos visitados | Iteraciones |\n",
    "|-----------------|------------------------|-------------|------------------------------|-----------------|-------------|\n",
    "| BFS (Amplitud)  | 9                      | 28          | 5                            | 23              | 23          |\n",
    "| UCS (Dijkstra)  | 9                      | 22          | 6                            | 22              | 22          |\n",
    "| A* (Heurística) | 9                      | 22         | 6                            | 20              | 20          |"
   ]
  },
  {
   "cell_type": "markdown",
   "metadata": {},
   "source": [
    "### **¿Obtiene UCS  (Dijkstra) el camino de coste óptimo?**"
   ]
  },
  {
   "cell_type": "markdown",
   "metadata": {},
   "source": [
    "Sí, el algoritmo UCS-Dijkstra obtiene el camino con coste óptimo que para este problema es 22 puesto que en cada iteración UCS expande primero el nodo de menor coste hasta llegar al objetivo, explorando todos los posibles caminos. \n",
    "\n",
    "Por ejemplo, en este ejercicio el coste de ejecutar los movimientos arriba y abajo es superior al de los movimientos izquierda y derecha. Se observa que en el recorrido obtenido con Dijkstra se maximiza el número de movimientos horizontales frente a los verticales. Así, aunque emplea el mismo número de movimientos que el algoritmo de búsqueda en amplitud (que sabemos es óptimo en cuanto a número de nodos expandidos), el coste es menor."
   ]
  },
  {
   "cell_type": "markdown",
   "metadata": {},
   "source": [
    "### **¿Obtiene A*** **el camino de coste óptimo?**"
   ]
  },
  {
   "cell_type": "markdown",
   "metadata": {},
   "source": [
    "Sí, A* obtiene el camino de coste óptimo, y además es capaz de encontrar dicho camino con menos iteraciones. \n",
    "\n",
    "Esto sucede porque este algoritmo está introduciendo la función heurística, proporcionando información al algoritmo y por tanto puede basar la elección del nodo a expandir tratando de minimizar el coste y número de operaciones."
   ]
  },
  {
   "cell_type": "markdown",
   "metadata": {},
   "source": [
    "### **¿Los resultados de UCS y A*** **siempre serán de este modo aunque se varíe el mapa?**"
   ]
  },
  {
   "cell_type": "markdown",
   "metadata": {},
   "source": [
    "Tanto el algoritmo de UCS como el algoritmo A* encontrarán la solución con coste óptimo, independientemente de si cambia el mapa o no.\n",
    "\n",
    "Por definición, ambos algoritmos eligen expandir primero el nodo de menor coste g(n) (UCS) o el nodo que minimiza la función de evaluación (g(n) + h(n)) para A*, siempre que la heurística (h(n)) para A* sea admisible."
   ]
  },
  {
   "cell_type": "markdown",
   "metadata": {},
   "source": [
    "### **¿Los resultados de UCS y A*** **siempre serán de este modo aunque se varíen los costes?**"
   ]
  },
  {
   "cell_type": "markdown",
   "metadata": {},
   "source": [
    "No puedo afirmar eso. El algoritmo UCS no tendría ningún problema y sí que nos daría la solución con coste óptimo, sin embargo en el caso del algoritmo A* tendríamos que revisar que su heurística siguiera siendo válida para estos nuevos costes."
   ]
  },
  {
   "cell_type": "markdown",
   "metadata": {},
   "source": [
    "### **¿Cuál de los dos algoritmos (UCS o A***) **es más eficiente en este caso?**"
   ]
  },
  {
   "cell_type": "markdown",
   "metadata": {},
   "source": [
    "En este caso el algoritmo A* es más eficiente, puesto que expande 20 nodos, frente a los 22 que expande UCS. Siempre que tengamos una heurística admisible para nuestro problema, es decir que subestima o iguala el costo real mínimo, A* va a ser, como poco, igual de eficiente que UCS. Puesto que cuenta con información sobre la estimación del coste total, este algoritmo puede tomar mejores decisiones a la hora de expandir nodos y por tanto, aun llegando al mismo resultado los dos algoritmos, A* lo hará con menos movimientos."
   ]
  },
  {
   "cell_type": "markdown",
   "metadata": {},
   "source": [
    "## **Caso 3 - A*** **con diferentes heurísticas**"
   ]
  },
  {
   "cell_type": "code",
   "execution_count": 11,
   "metadata": {},
   "outputs": [
    {
     "name": "stdout",
     "output_type": "stream",
     "text": [
      "Experimento con algoritmo <function uniform_cost at 0x0000017A86E01440>:\n"
     ]
    },
    {
     "data": {
      "image/png": "[encoded data removed]",
      "text/plain": [
       "<Figure size 640x480 with 2 Axes>"
      ]
     },
     "metadata": {},
     "output_type": "display_data"
    },
    {
     "name": "stdout",
     "output_type": "stream",
     "text": [
      "Total length of solution: 9\n",
      "Total cost of solution: 8.0\n",
      "max fringe size: 5\n",
      "visited nodes: 23\n",
      "iterations: 23\n",
      "\n",
      "Experimento con algoritmo <function astar at 0x0000017A86E01580>:\n"
     ]
    },
    {
     "data": {
      "image/png": "[encoded data removed]",
      "text/plain": [
       "<Figure size 640x480 with 2 Axes>"
      ]
     },
     "metadata": {},
     "output_type": "display_data"
    },
    {
     "name": "stdout",
     "output_type": "stream",
     "text": [
      "Total length of solution: 9\n",
      "Total cost of solution: 8.0\n",
      "max fringe size: 5\n",
      "visited nodes: 16\n",
      "iterations: 16\n",
      "\n",
      "Experimento con algoritmo <function astar at 0x0000017A86E01580>:\n"
     ]
    },
    {
     "data": {
      "image/png": "[encoded data removed]",
      "text/plain": [
       "<Figure size 640x480 with 2 Axes>"
      ]
     },
     "metadata": {},
     "output_type": "display_data"
    },
    {
     "name": "stdout",
     "output_type": "stream",
     "text": [
      "Total length of solution: 9\n",
      "Total cost of solution: 8.0\n",
      "max fringe size: 6\n",
      "visited nodes: 17\n",
      "iterations: 17\n",
      "\n",
      "Experimento con algoritmo <function astar at 0x0000017A86E01580>:\n"
     ]
    },
    {
     "data": {
      "image/png": "[encoded data removed]",
      "text/plain": [
       "<Figure size 640x480 with 2 Axes>"
      ]
     },
     "metadata": {},
     "output_type": "display_data"
    },
    {
     "name": "stdout",
     "output_type": "stream",
     "text": [
      "Total length of solution: 9\n",
      "Total cost of solution: 8.0\n",
      "max fringe size: 4\n",
      "visited nodes: 11\n",
      "iterations: 11\n",
      "\n"
     ]
    }
   ],
   "source": [
    "# Se utiliza el mismo mapa y se usan diferentes heurísticas\n",
    "\n",
    "MAP_ASCII = \"\"\"\n",
    "########\n",
    "#    P #\n",
    "# #### #\n",
    "#  T # #\n",
    "# ##   #\n",
    "#      #\n",
    "########\n",
    "\"\"\"\n",
    "\n",
    "# Costes de moverse en cada dirección\n",
    "COSTS = {\n",
    "    \"up\": 1.0,\n",
    "    \"down\": 1.0,\n",
    "    \"right\": 1.0,\n",
    "    \"left\": 1.0,\n",
    "}\n",
    "\n",
    "algorithms=(astar,)\n",
    "\n",
    "main (MAP_ASCII,COSTS,(uniform_cost, astar,),1)\n",
    "main (MAP_ASCII,COSTS,algorithms,2)\n",
    "main (MAP_ASCII,COSTS,algorithms,3)"
   ]
  },
  {
   "cell_type": "markdown",
   "metadata": {},
   "source": [
    "Recopilando los resultados obtenidos tenemos que:\n",
    "\n",
    "| Algoritmo        | Heurística           | Longitud de la solución | Costo total | Tamaño máximo de la frontera | Nodos visitados | Iteraciones |\n",
    "|-----------------|----------------------|------------------------|-------------|------------------------------|-----------------|-------------|\n",
    "| UCS (Dijkstra)  | N/A                  | 9                      | 8           | 5                            | 23              | 23          |\n",
    "| A*              | Manhattan            | 9                      | 8           | 5                            | 16              | 16          |\n",
    "| A*              | Chebyshev            | 9                      | 8           | 6                            | 17              | 17          |\n",
    "| A*              | Manhattan (x2)       | 9                      | 8           | 6                            | 17              | 17          |\n",
    "| A*              | Manhattan (x4)       | 9                      | 8           | 4                            | 11              | 11          |"
   ]
  },
  {
   "cell_type": "markdown",
   "metadata": {},
   "source": [
    "### **¿Obtiene UCS  (Dijkstra) el camino de coste óptimo?**"
   ]
  },
  {
   "cell_type": "markdown",
   "metadata": {},
   "source": [
    "Sí. Como ya se dijo anteriormente, UCS (Dijkstra) obtiene el camino de coste óptimo, aunque en este caso resulta ser la opción menos eficiente."
   ]
  },
  {
   "cell_type": "markdown",
   "metadata": {},
   "source": [
    "### **¿Obtiene A*** **el camino de coste óptimo con todas las heurísticas?**"
   ]
  },
  {
   "cell_type": "markdown",
   "metadata": {},
   "source": [
    "Sí, obtenemos el mismo camino que obtuvimos con UCS, que es el camino óptimo, aunque dependiendo de cuál se use se obtendrá un resultado más eficiente o menos. \n",
    "\n",
    "Aún así, sabemos que la heurística 3 sobreestima el coste, de manera que no es una heurística admisible, por lo que, en general, no podríamos asegurar que el camino que encuentre sea el óptimo, podría ser un camino subóptimo."
   ]
  },
  {
   "cell_type": "markdown",
   "metadata": {},
   "source": [
    "### **¿Se puede afirmar que los resultados no varían al cambiar el mapa para ninguna de las heurísticas presentadas?**"
   ]
  },
  {
   "cell_type": "markdown",
   "metadata": {},
   "source": [
    "No, solo podríamos afirmarlo para las heurísticas 1 y 2, que son admisibles y por tanto encontrarán el camino óptimo. En el caso de la heurística 3 (no admisible), no podemos afirmar matemáticamente que el camino encontrado sea el óptimo."
   ]
  },
  {
   "cell_type": "markdown",
   "metadata": {},
   "source": [
    "### **Si la respuesta anterior es no en algún caso, prueba esta afirmación diseñando un mapa que compruebe este hecho.**"
   ]
  },
  {
   "cell_type": "code",
   "execution_count": 12,
   "metadata": {},
   "outputs": [
    {
     "name": "stdout",
     "output_type": "stream",
     "text": [
      "Experimento con algoritmo <function astar at 0x0000017A86E01580>:\n"
     ]
    },
    {
     "data": {
      "image/png": "[encoded data removed]",
      "text/plain": [
       "<Figure size 640x480 with 2 Axes>"
      ]
     },
     "metadata": {},
     "output_type": "display_data"
    },
    {
     "name": "stdout",
     "output_type": "stream",
     "text": [
      "Total length of solution: 29\n",
      "Total cost of solution: 28.0\n",
      "max fringe size: 7\n",
      "visited nodes: 70\n",
      "iterations: 70\n",
      "\n",
      "Experimento con algoritmo <function astar at 0x0000017A86E01580>:\n"
     ]
    },
    {
     "data": {
      "image/png": "[encoded data removed]",
      "text/plain": [
       "<Figure size 640x480 with 2 Axes>"
      ]
     },
     "metadata": {},
     "output_type": "display_data"
    },
    {
     "name": "stdout",
     "output_type": "stream",
     "text": [
      "Total length of solution: 37\n",
      "Total cost of solution: 36.0\n",
      "max fringe size: 7\n",
      "visited nodes: 58\n",
      "iterations: 58\n",
      "\n"
     ]
    }
   ],
   "source": [
    "MAP_ASCII = \"\"\"\n",
    "###########\n",
    "#P        #\n",
    "####### # #\n",
    "#       # #\n",
    "# ####### #\n",
    "#       # #\n",
    "####### # #\n",
    "#       # #\n",
    "#  ###### #\n",
    "#  ###### #\n",
    "#     T # #\n",
    "#  #### # #\n",
    "#  #### # #\n",
    "#  #### # #\n",
    "#         #\n",
    "###########\n",
    "\"\"\"\n",
    "\n",
    "# Costes de moverse en cada dirección\n",
    "COSTS = {\n",
    "    \"up\": 1.0,\n",
    "    \"down\": 1.0,\n",
    "    \"right\": 1.0,\n",
    "    \"left\": 1.0,\n",
    "}\n",
    "\n",
    "algorithms=(astar,)\n",
    "main (MAP_ASCII,COSTS,algorithms,2)\n",
    "main (MAP_ASCII,COSTS,algorithms,3)"
   ]
  },
  {
   "cell_type": "markdown",
   "metadata": {},
   "source": [
    "Recopilando los resultados obtenidos tenemos que:\n",
    "\n",
    "| Algoritmo        | Heurística           | Longitud de la solución | Costo total | Tamaño máximo de la frontera | Nodos visitados | Iteraciones |\n",
    "|-----------------|----------------------|------------------------|-------------|------------------------------|-----------------|-------------|\n",
    "| A*              | Chebyshev            | 29                     | 28.0        | 7                            | 70              | 70          |\n",
    "| A*              | Manhattan (x2)       | 37                     | 36.0        | 7                            | 58              | 58          |"
   ]
  },
  {
   "cell_type": "markdown",
   "metadata": {},
   "source": [
    "El primer algoritmo utiliza la heurística 2 (subestima el coste, admisible) y el segundo, la heurística 3 (sobreestima, no es admisible). Con la heurística 2 encontramos el camino óptimo, sin embargo, la heurística 3, que sobreestima el coste, encuentra otro camino alternativo al óptimo ya que descarta “alejarse” (tomar el camino descendente) de su objetivo al tener la heurística inflada."
   ]
  },
  {
   "cell_type": "markdown",
   "metadata": {},
   "source": [
    "#### **¿Es el algoritmo A*** **igualmente eficiente en todos los casos?**"
   ]
  },
  {
   "cell_type": "markdown",
   "metadata": {},
   "source": [
    "La eficiencia de A*, al ser un algoritmo informado, depende de la heurística que se considere. Cuanto más nos acerquemos, sin pasarnos por lo antes expuesto, a la función de costo en cada paso, más fielmente aumentará la eficiencia del algoritmo. Por sintetizar, la eficiencia del algoritmo A* está intrínsecamente ligada a la calidad y adecuación de la heurística empleada."
   ]
  }
 ],
 "metadata": {
  "kernelspec": {
   "display_name": "Python 3",
   "language": "python",
   "name": "python3"
  },
  "language_info": {
   "codemirror_mode": {
    "name": "ipython",
    "version": 3
   },
   "file_extension": ".py",
   "mimetype": "text/x-python",
   "name": "python",
   "nbconvert_exporter": "python",
   "pygments_lexer": "ipython3",
   "version": "3.11.9"
  }
 },
 "nbformat": 4,
 "nbformat_minor": 2
}
